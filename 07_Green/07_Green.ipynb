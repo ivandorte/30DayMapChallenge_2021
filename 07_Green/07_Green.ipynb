{
 "cells": [
  {
   "cell_type": "code",
   "execution_count": 8,
   "metadata": {},
   "outputs": [],
   "source": [
    "import os\n",
    "import glob\n",
    "import calendar\n",
    "import matplotlib.pyplot as plt\n",
    "from PIL import Image\n",
    "from matplotlib.animation import FuncAnimation\n",
    "from matplotlib.offsetbox import AnnotationBbox, OffsetImage"
   ]
  },
  {
   "cell_type": "code",
   "execution_count": 9,
   "metadata": {},
   "outputs": [],
   "source": [
    "def animate(i):\n",
    "    year_num = int(os.path.basename(nasa_data[i])[0:4])\n",
    "    month_num = int(os.path.basename(nasa_data[i])[5:7])\n",
    "    im_i = plt.imread(nasa_data[i])\n",
    "    im_plot.set_array(im_i)\n",
    "    ax.set_title(f\"{calendar.month_name[month_num]} {year_num}\")"
   ]
  },
  {
   "cell_type": "code",
   "execution_count": 10,
   "metadata": {},
   "outputs": [],
   "source": [
    "# https://neo.gsfc.nasa.gov/view.php?datasetId=MOD_NDVI_M&date=2021-10-01\n",
    "nasa_data = glob.glob(r\"..\\Data\\NDVI_NASA\\*\")"
   ]
  },
  {
   "cell_type": "code",
   "execution_count": 11,
   "metadata": {},
   "outputs": [],
   "source": [
    "im_0 = plt.imread(nasa_data[0])\n",
    "year_num = int(os.path.basename(nasa_data[0])[0:4])\n",
    "month_num = int(os.path.basename(nasa_data[0])[5:7])"
   ]
  },
  {
   "cell_type": "code",
   "execution_count": 12,
   "metadata": {},
   "outputs": [],
   "source": [
    "colormap = Image.open(r\"modis_ndvi.png\")"
   ]
  },
  {
   "cell_type": "code",
   "execution_count": 13,
   "metadata": {},
   "outputs": [],
   "source": [
    "fig, ax = plt.subplots(figsize=(10, 6))\n",
    "plt.rcParams[\"figure.autolayout\"] = True\n",
    "im_plot = ax.imshow(im_0, interpolation=None)\n",
    "ax.set_title(f\"{calendar.month_name[month_num]} {year_num}\")\n",
    "im_imbox = OffsetImage(colormap, zoom=0.6)\n",
    "im_annot = AnnotationBbox(im_imbox,\n",
    "                    (1800, 1800),\n",
    "                    xybox=(0.0, 0.0),\n",
    "                    xycoords='data', \n",
    "                    boxcoords='offset points',\n",
    "                    frameon=False )\n",
    "ax.add_artist(im_annot)\n",
    "plt.axis('off')\n",
    "plt.close()"
   ]
  },
  {
   "cell_type": "code",
   "execution_count": 14,
   "metadata": {},
   "outputs": [
    {
     "name": "stderr",
     "output_type": "stream",
     "text": [
      "MovieWriter ffmpeg unavailable; using Pillow instead.\n"
     ]
    }
   ],
   "source": [
    "# Create the animation\n",
    "animation = FuncAnimation(fig, animate, frames=len(nasa_data))\n",
    "animation.save('07_Green.gif', dpi=300)"
   ]
  }
 ],
 "metadata": {
  "interpreter": {
   "hash": "7b11ec4e63c99d8162a346e44061eab97ff71e663e3c205d951a4ad2f12c3cfa"
  },
  "kernelspec": {
   "display_name": "Python 3.7.10 64-bit (system)",
   "language": "python",
   "name": "python3"
  },
  "language_info": {
   "codemirror_mode": {
    "name": "ipython",
    "version": 3
   },
   "file_extension": ".py",
   "mimetype": "text/x-python",
   "name": "python",
   "nbconvert_exporter": "python",
   "pygments_lexer": "ipython3",
   "version": "3.7.10"
  },
  "orig_nbformat": 4
 },
 "nbformat": 4,
 "nbformat_minor": 2
}
