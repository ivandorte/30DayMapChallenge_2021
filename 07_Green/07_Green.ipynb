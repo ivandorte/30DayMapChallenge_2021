{
 "cells": [
  {
   "cell_type": "code",
   "execution_count": 1,
   "metadata": {},
   "outputs": [
    {
     "name": "stderr",
     "output_type": "stream",
     "text": [
      "Can't find requested entry point: GDALRegisterMe\n",
      "Can't find requested entry point: GDALRegister_nitf\n",
      "Can't find requested entry point: GDALRegisterMe\n",
      "Can't find requested entry point: GDALRegister_nitf\n"
     ]
    }
   ],
   "source": [
    "import os\n",
    "import glob\n",
    "import calendar\n",
    "import xarray as xr\n",
    "import cartopy.crs as ccrs\n",
    "from matplotlib.animation import FuncAnimation\n",
    "from cartopy.feature import OCEAN, LAND, RIVERS, LAKES\n",
    "import matplotlib.pyplot as plt"
   ]
  },
  {
   "cell_type": "code",
   "execution_count": 2,
   "metadata": {},
   "outputs": [],
   "source": [
    "def animate(i):\n",
    "    month_num = int(os.path.basename(nasa_data[i])[0:2])\n",
    "    ndvi_i = xr.open_rasterio(nasa_data[i])\n",
    "    ndvi_i_ma = ndvi_i.where(ndvi_i != 99999.) \n",
    "    array_i = ndvi_i_ma.values.flatten()\n",
    "    ndvi_plt.set_array(array_i)\n",
    "    ax.set_title(f\"{calendar.month_name[month_num]} 2021\")"
   ]
  },
  {
   "cell_type": "code",
   "execution_count": 3,
   "metadata": {},
   "outputs": [],
   "source": [
    "nasa_data = glob.glob(r\"..\\Data\\NDVI_NASA\\*\")"
   ]
  },
  {
   "cell_type": "code",
   "execution_count": 4,
   "metadata": {},
   "outputs": [],
   "source": [
    "# https://neo.gsfc.nasa.gov/view.php?datasetId=MOD_NDVI_M&date=2021-10-01\n",
    "ndvi_0 = xr.open_rasterio(nasa_data[0])\n",
    "ndvi_0_ma = ndvi_0.where(ndvi_0 != 99999.) \n",
    "month_num = int(os.path.basename(nasa_data[0])[0:2])"
   ]
  },
  {
   "cell_type": "code",
   "execution_count": 5,
   "metadata": {},
   "outputs": [],
   "source": [
    "cbar_kwargs = {'orientation':'horizontal', \n",
    "               'shrink':0.8, \n",
    "               'aspect':20, \n",
    "               \"pad\": 0.1,\n",
    "               'label':'NDVI'}"
   ]
  },
  {
   "cell_type": "code",
   "execution_count": 6,
   "metadata": {},
   "outputs": [],
   "source": [
    "fig = plt.figure(figsize=(8, 6))\n",
    "ax = plt.subplot(projection=ccrs.Robinson())\n",
    "ax.coastlines(lw=0.3, color=\"k\")\n",
    "ax.add_feature(OCEAN, color=\"lavender\")\n",
    "ax.add_feature(RIVERS, color=\"lavender\")\n",
    "ax.add_feature(LAKES, color=\"lavender\")\n",
    "ax.gridlines(color='gray',\n",
    "            alpha=0.6,\n",
    "            draw_labels=True)\n",
    "ndvi_plt = ndvi_0_ma.plot(cmap='Greens',\n",
    "                    ax=ax, \n",
    "                    cbar_kwargs=cbar_kwargs,\n",
    "                    transform=ccrs.PlateCarree())\n",
    "ax.set_title(f\"{calendar.month_name[month_num]} 2021\")\n",
    "plt.tight_layout()\n",
    "plt.close()"
   ]
  },
  {
   "cell_type": "code",
   "execution_count": 7,
   "metadata": {},
   "outputs": [],
   "source": [
    "# Create the animation\n",
    "animation = FuncAnimation(fig, animate, frames=len(nasa_data))\n",
    "animation.save('07_Green.gif', dpi=300, fps = 2)"
   ]
  }
 ],
 "metadata": {
  "interpreter": {
   "hash": "7b11ec4e63c99d8162a346e44061eab97ff71e663e3c205d951a4ad2f12c3cfa"
  },
  "kernelspec": {
   "display_name": "Python 3.7.10 64-bit (system)",
   "language": "python",
   "name": "python3"
  },
  "language_info": {
   "codemirror_mode": {
    "name": "ipython",
    "version": 3
   },
   "file_extension": ".py",
   "mimetype": "text/x-python",
   "name": "python",
   "nbconvert_exporter": "python",
   "pygments_lexer": "ipython3",
   "version": "3.7.10"
  },
  "orig_nbformat": 4
 },
 "nbformat": 4,
 "nbformat_minor": 2
}
