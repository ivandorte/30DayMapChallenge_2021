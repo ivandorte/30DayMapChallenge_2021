{
 "cells": [
  {
   "cell_type": "code",
   "execution_count": 170,
   "metadata": {},
   "outputs": [],
   "source": [
    "import numpy as np\n",
    "from osgeo import gdal, osr\n",
    "from scipy.spatial import Delaunay\n",
    "from matplotlib.patches import Polygon\n",
    "import matplotlib.pyplot as plt\n",
    "from matplotlib import transforms\n",
    "\n",
    "plt.style.use('default')"
   ]
  },
  {
   "cell_type": "code",
   "execution_count": 171,
   "metadata": {},
   "outputs": [],
   "source": [
    "in_dem = r\"..\\Data\\N46E009.hgt\"\n",
    "dem_ds = gdal.Open(in_dem)\n",
    "prj = dem_ds.GetProjection()\n",
    "srs = osr.SpatialReference(wkt=prj)\n",
    "dem_band = dem_ds.GetRasterBand(1)\n",
    "dem_nodata = dem_band.GetNoDataValue()\n",
    "scale = 111120 if srs.IsGeographic() else 1.0"
   ]
  },
  {
   "cell_type": "code",
   "execution_count": 172,
   "metadata": {},
   "outputs": [],
   "source": [
    "# Calculate Hillshade\n",
    "hillsha = gdal.DEMProcessing('', dem_ds, 'hillshade', multiDirectional=True, computeEdges=False,\n",
    "                                      format='MEM', scale = scale)\n",
    "hillsha = hillsha.ReadAsArray()"
   ]
  },
  {
   "cell_type": "code",
   "execution_count": 173,
   "metadata": {},
   "outputs": [],
   "source": [
    "# Generate some random points\n",
    "N = 50000\n",
    "x = np.random.uniform(0.0, 3600.0, size=N)\n",
    "y = np.random.uniform(0.0, 3600.0, size=N)\n",
    "pts = np.c_[x, y]"
   ]
  },
  {
   "cell_type": "code",
   "execution_count": 174,
   "metadata": {},
   "outputs": [],
   "source": [
    "# Triangulate points\n",
    "tri = Delaunay(pts)"
   ]
  },
  {
   "cell_type": "code",
   "execution_count": 175,
   "metadata": {},
   "outputs": [],
   "source": [
    "# This is slow... \n",
    "triangles_colors = {}\n",
    "rows, cols = hillsha.shape\n",
    "for i in range(0, rows):\n",
    "    for j in range(0, cols):\n",
    "        # Find the triangle\n",
    "        idx = tri.find_simplex((i, j))\n",
    "        \n",
    "        # Point outside the triangulation\n",
    "        if int(idx) == -1:\n",
    "            continue\n",
    "        else:\n",
    "            # Get Hillshade value\n",
    "            color_i = hillsha[i, j]\n",
    "            if int(idx) in triangles_colors:\n",
    "                triangles_colors[int(idx)].append(color_i)\n",
    "            else:\n",
    "                triangles_colors[int(idx)] = [color_i]"
   ]
  },
  {
   "cell_type": "code",
   "execution_count": null,
   "metadata": {},
   "outputs": [],
   "source": [
    "# Plot the result - FIX: rotate image by -90\n",
    "fig, ax = plt.subplots(figsize=(10,10))\n",
    "for idx, values in triangles_colors.items():\n",
    "    triangle = tri.points[tri.simplices[idx]]\n",
    "    mean_hs = sum(values)/len(values)\n",
    "    path = Polygon(triangle, \n",
    "                   facecolor = (mean_hs/255, mean_hs/255, mean_hs/255))\n",
    "    ax.add_patch(path)\n",
    "ax.set_xlim(0, 3600.0)\n",
    "ax.set_ylim(0, 3600.0)\n",
    "plt.axis(\"off\")\n",
    "plt.tight_layout()\n",
    "plt.savefig(\"03_Polygons.png\", dpi=300)\n",
    "plt.show()"
   ]
  }
 ],
 "metadata": {
  "interpreter": {
   "hash": "7b11ec4e63c99d8162a346e44061eab97ff71e663e3c205d951a4ad2f12c3cfa"
  },
  "kernelspec": {
   "display_name": "Python 3.7.10 64-bit (system)",
   "name": "python3"
  },
  "language_info": {
   "codemirror_mode": {
    "name": "ipython",
    "version": 3
   },
   "file_extension": ".py",
   "mimetype": "text/x-python",
   "name": "python",
   "nbconvert_exporter": "python",
   "pygments_lexer": "ipython3",
   "version": "3.7.10"
  },
  "orig_nbformat": 4
 },
 "nbformat": 4,
 "nbformat_minor": 2
}
