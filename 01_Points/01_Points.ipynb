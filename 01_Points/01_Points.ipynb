{
 "cells": [
  {
   "cell_type": "code",
   "execution_count": 1,
   "metadata": {},
   "outputs": [],
   "source": [
    "import numpy as np\n",
    "from numba import jit\n",
    "import matplotlib.pyplot as plt\n",
    "import matplotlib.patheffects as pe\n",
    "from matplotlib.animation import FuncAnimation\n",
    "\n",
    "plt.style.use('default')"
   ]
  },
  {
   "cell_type": "code",
   "execution_count": 2,
   "metadata": {},
   "outputs": [],
   "source": [
    "@jit(nopython=True)\n",
    "def random_walk_2d_n8(nwalks):\n",
    "    # Arrays to store x, y coordinates\n",
    "    x = np.zeros(nwalks)\n",
    "    y = np.zeros(nwalks)\n",
    "    \n",
    "    # 8 directions\n",
    "    n8 = [(-1,-1), (-1,0), (-1,1), (0,-1), (0,1), (1,-1), (1,0), (1,1)]\n",
    "    for n in range(nwalks):\n",
    "        idx = np.random.choice(len(n8), 1)[0]\n",
    "        x[n] = x[n - 1] + n8[idx][0]\n",
    "        y[n] = y[n - 1] + n8[idx][1]          \n",
    "    return x, y"
   ]
  },
  {
   "cell_type": "code",
   "execution_count": 3,
   "metadata": {},
   "outputs": [],
   "source": [
    "def animate(i):\n",
    "    pt_plt.set_data(x[i], y[i])\n",
    "    return pt_plt,"
   ]
  },
  {
   "cell_type": "code",
   "execution_count": 4,
   "metadata": {},
   "outputs": [],
   "source": [
    "nwalks = 1000\n",
    "x, y = random_walk_2d_n8(nwalks)"
   ]
  },
  {
   "cell_type": "code",
   "execution_count": null,
   "metadata": {},
   "outputs": [],
   "source": [
    "fig, ax = plt.subplots()\n",
    "pt_plt, = ax.plot([], [], marker=\"o\", mfc = 'tab:blue', mec = 'tab:blue')\n",
    "ax.plot(x, y, color=\"tab:gray\", lw=0.1)\n",
    "ax.scatter(x[0], y[0], color=\"white\", edgecolors=\"k\")\n",
    "ax.scatter(x[-1], y[-1], color=\"tab:red\")\n",
    "ax.set_xlim(x.min()-1, x.max()+1)\n",
    "ax.set_ylim(y.min()-1, y.max()+1)\n",
    "plt.tight_layout()\n",
    "plt.axis('off')\n",
    "plt.close()"
   ]
  },
  {
   "cell_type": "code",
   "execution_count": null,
   "metadata": {},
   "outputs": [
    {
     "name": "stderr",
     "output_type": "stream",
     "text": [
      "MovieWriter ffmpeg unavailable; using Pillow instead.\n"
     ]
    }
   ],
   "source": [
    "# Create the animation\n",
    "animation = FuncAnimation(fig, animate, frames=len(x))\n",
    "animation.save('01_Points.gif', dpi=300)"
   ]
  }
 ],
 "metadata": {
  "interpreter": {
   "hash": "7b11ec4e63c99d8162a346e44061eab97ff71e663e3c205d951a4ad2f12c3cfa"
  },
  "kernelspec": {
   "display_name": "Python 3.7.10 64-bit (system)",
   "name": "python3"
  },
  "language_info": {
   "codemirror_mode": {
    "name": "ipython",
    "version": 3
   },
   "file_extension": ".py",
   "mimetype": "text/x-python",
   "name": "python",
   "nbconvert_exporter": "python",
   "pygments_lexer": "ipython3",
   "version": "3.7.10"
  },
  "orig_nbformat": 4
 },
 "nbformat": 4,
 "nbformat_minor": 2
}
