{
 "cells": [
  {
   "cell_type": "code",
   "execution_count": 1,
   "metadata": {},
   "outputs": [],
   "source": [
    "import os\n",
    "import pandas as pd\n",
    "import geopandas as gpd\n",
    "import plotly.express as px\n",
    "import plotly.offline as pyo\n",
    "\n",
    "# Set notebook mode to work in offline\n",
    "pyo.init_notebook_mode()\n"
   ]
  },
  {
   "cell_type": "code",
   "execution_count": null,
   "metadata": {},
   "outputs": [],
   "source": [
    "ita_regions = r\"..\\Data\\ISTAT\\Reg01012021_g_WGS84.shp\"\n",
    "population_file = r\"..\\Data\\ISTAT\\pop2020.csv\""
   ]
  },
  {
   "cell_type": "code",
   "execution_count": null,
   "metadata": {},
   "outputs": [],
   "source": [
    "# Read Italian regions\n",
    "ita_regions_df = gpd.read_file(ita_regions)\n",
    "unique_regions = ita_regions_df[[\"DEN_REG\", \"geometry\"]].groupby(\"DEN_REG\").first()"
   ]
  },
  {
   "cell_type": "code",
   "execution_count": null,
   "metadata": {},
   "outputs": [],
   "source": [
    "# Read population file\n",
    "pop_df = pd.read_csv(population_file)\n",
    "\n",
    "# Join with regions\n",
    "pop_df = pd.merge(ita_regions_df, pop_df, left_on='DEN_REG', right_on='Regione')\n",
    "pop_df = pop_df[(pop_df[\"eta\"]!=\"Totale\")]\n",
    "pop_df[\"eta\"] = pop_df[\"eta\"].astype(int)\n",
    "\n",
    "# Total population\n",
    "pop_df[\"POP\"] = pop_df[\"maschi\"] + pop_df[\"femmine\"]\n",
    "\n",
    "# Calculate aging index\n",
    "pop15 = pop_df[(pop_df[\"eta\"] < 15)]\n",
    "pop65 = pop_df[(pop_df[\"eta\"] > 65)]\n",
    "pop15 = pop15[[\"Regione\", \"POP\"]].groupby(\"Regione\").sum(\"POP\")\n",
    "pop65 = pop65[[\"Regione\", \"POP\"]].groupby(\"Regione\").sum(\"POP\")\n",
    "aging = (pop65/pop15) * 100\n",
    "aging = aging.reset_index()\n",
    "aging = pd.merge(aging, unique_regions, left_on='Regione', right_on='DEN_REG')\n",
    "aging[\"year\"] = int(os.path.basename(population_file)[3:7])\n",
    "aging = aging.rename({'POP': 'Aging Index'}, axis=1)\n",
    "aging = gpd.GeoDataFrame(aging, crs=ita_regions_df.crs).to_crs(\"epsg:4326\")"
   ]
  },
  {
   "cell_type": "code",
   "execution_count": null,
   "metadata": {},
   "outputs": [],
   "source": [
    "lon_min, lat_min, lon_max, lat_max = aging.total_bounds\n",
    "cx, cy = (lon_min+lon_max)/2, (lat_min+lat_max)/2"
   ]
  },
  {
   "cell_type": "code",
   "execution_count": null,
   "metadata": {},
   "outputs": [],
   "source": [
    "title = '<b>2020 Aging Index by Region (Italy)</b><br>'\n",
    "title += '<i style=\"font-size:12px\">Number of elderly population (aged 65 years and over) per 100 individuals younger than 14 years old</i>'"
   ]
  },
  {
   "cell_type": "code",
   "execution_count": null,
   "metadata": {},
   "outputs": [],
   "source": [
    "# Save the map\n",
    "fig = px.choropleth_mapbox(aging, \n",
    "                    geojson=aging.geometry, \n",
    "                    locations=aging.index,\n",
    "                    color=\"Aging Index\",\n",
    "                    zoom=4,\n",
    "                    center={'lat': cy, 'lon': cx},\n",
    "                    hover_data =[\"Regione\", \"Aging Index\"],\n",
    "                    mapbox_style=\"carto-positron\",\n",
    "                    color_continuous_scale=\"Greys\")\n",
    "fig.update_layout(\n",
    "    title_text = title,\n",
    "    annotations = [dict(\n",
    "        x=0.0,\n",
    "        y=0.0,\n",
    "        xref='paper',\n",
    "        yref='paper',\n",
    "        text='Source: <a href=\"https://demo.istat.it/popres/download.php?anno=2020&lingua=ita\">ISTAT</a>',\n",
    "        showarrow = False\n",
    "    )]\n",
    ")\n",
    "\n",
    "fig.update_geos(fitbounds=\"locations\", visible=False)\n",
    "fig.write_html(\"14_NewTool.html\")"
   ]
  }
 ],
 "metadata": {
  "interpreter": {
   "hash": "7b11ec4e63c99d8162a346e44061eab97ff71e663e3c205d951a4ad2f12c3cfa"
  },
  "kernelspec": {
   "display_name": "Python 3.7.10 64-bit (system)",
   "language": "python",
   "name": "python3"
  },
  "language_info": {
   "codemirror_mode": {
    "name": "ipython",
    "version": 3
   },
   "file_extension": ".py",
   "mimetype": "text/x-python",
   "name": "python",
   "nbconvert_exporter": "python",
   "pygments_lexer": "ipython3",
   "version": "3.7.10"
  },
  "orig_nbformat": 4
 },
 "nbformat": 4,
 "nbformat_minor": 2
}
