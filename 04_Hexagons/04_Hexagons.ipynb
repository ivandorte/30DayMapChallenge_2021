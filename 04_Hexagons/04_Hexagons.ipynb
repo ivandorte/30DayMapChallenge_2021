{
 "cells": [
  {
   "cell_type": "code",
   "execution_count": 1,
   "metadata": {},
   "outputs": [],
   "source": [
    "import numpy as np\n",
    "from numba import jit\n",
    "import matplotlib.pyplot as plt\n",
    "import matplotlib.patheffects as pe\n",
    "from matplotlib.animation import FuncAnimation\n",
    "\n",
    "plt.style.use('default')"
   ]
  },
  {
   "cell_type": "code",
   "execution_count": 2,
   "metadata": {},
   "outputs": [],
   "source": [
    "@jit(nopython=True)\n",
    "def random_walk_2d_n8(nwalks):\n",
    "    # Arrays to store x, y coordinates\n",
    "    x = np.zeros(nwalks)\n",
    "    y = np.zeros(nwalks)\n",
    "    \n",
    "    # 8 directions\n",
    "    n8 = [(-1,-1), (-1,0), (-1,1), (0,-1), (0,1), (1,-1), (1,0), (1,1)]\n",
    "    for n in range(nwalks):\n",
    "        idx = np.random.choice(len(n8), 1)[0]\n",
    "        x[n] = x[n - 1] + n8[idx][0]\n",
    "        y[n] = y[n - 1] + n8[idx][1]          \n",
    "    return x, y"
   ]
  },
  {
   "cell_type": "code",
   "execution_count": 3,
   "metadata": {},
   "outputs": [],
   "source": [
    "def closest_node(node, offsets):\n",
    "    distances = np.sum((offsets - node) ** 2, axis=1)\n",
    "    return np.argmin(distances)"
   ]
  },
  {
   "cell_type": "code",
   "execution_count": 4,
   "metadata": {},
   "outputs": [],
   "source": [
    "def animate(i):\n",
    "    # Update point position\n",
    "    pt_plt.set_data(x[i], y[i])\n",
    "    \n",
    "    # Update Hexbin counts\n",
    "    closest_idx = closest_node((x[i], y[i]), offsets)\n",
    "    counts[closest_idx] += 1\n",
    "    hb_plt.set_array(counts)\n",
    "    \n",
    "    # Update Hexbin label\n",
    "    label_i = labels[closest_idx]\n",
    "    label_i.set_text(int(counts[closest_idx]))\n",
    "    return pt_plt, hb_plt, "
   ]
  },
  {
   "cell_type": "code",
   "execution_count": 5,
   "metadata": {},
   "outputs": [],
   "source": [
    "nwalks = 250\n",
    "x, y = random_walk_2d_n8(nwalks)"
   ]
  },
  {
   "cell_type": "code",
   "execution_count": 6,
   "metadata": {},
   "outputs": [],
   "source": [
    "# Plot the result\n",
    "fig, ax = plt.subplots()\n",
    "pt_plt, = ax.plot([], [], marker=\"o\", \n",
    "                  mfc = 'white', \n",
    "                  mec = 'tab:blue', \n",
    "                  zorder=2)\n",
    "# Start point\n",
    "ax.scatter(x[0], y[0], color=\"white\", edgecolors=\"k\", zorder=2)\n",
    "\n",
    "# End point\n",
    "ax.scatter(x[-1], y[-1], color=\"tab:red\", zorder=2)\n",
    "\n",
    "# Path\n",
    "ax.plot(x, y, color=\"k\", lw=0.1, zorder=1)\n",
    "\n",
    "# Initialize hexbin\n",
    "hb_plt = ax.hexbin(x, y, gridsize=10, cmap=\"OrRd\")\n",
    "offsets = hb_plt.get_offsets()\n",
    "offsets_x = offsets[:, 0]\n",
    "offsets_y = offsets[:, 1]\n",
    "counts = hb_plt.get_array() * 0\n",
    "hb_plt.set_array(counts)\n",
    "\n",
    "# Initialize hexbin labels\n",
    "labels = []\n",
    "for off in offsets:\n",
    "    labels.append(ax.text(off[0], off[1], \"\", \n",
    "                           ha=\"center\", \n",
    "                           va=\"center\", \n",
    "                           c=\"tab:orange\",\n",
    "                           weight=\"bold\",\n",
    "                           path_effects=[pe.withStroke(linewidth=2, \n",
    "                                                       foreground=\"white\")]))\n",
    "plt.axis('off')\n",
    "ax.set(xlim = (x.min() - 1.5, x.max() + 1.5), \n",
    "       ylim = (y.min() - 1.5, y.max() + 1.5))\n",
    "plt.tight_layout()\n",
    "plt.close()"
   ]
  },
  {
   "cell_type": "code",
   "execution_count": null,
   "metadata": {},
   "outputs": [],
   "source": [
    "# Create the animation\n",
    "animation = FuncAnimation(fig, animate, frames=len(x))\n",
    "animation.save('04_Hexagons.gif', dpi=300)"
   ]
  }
 ],
 "metadata": {
  "interpreter": {
   "hash": "7b11ec4e63c99d8162a346e44061eab97ff71e663e3c205d951a4ad2f12c3cfa"
  },
  "kernelspec": {
   "display_name": "Python 3.7.10 64-bit (system)",
   "name": "python3"
  },
  "language_info": {
   "codemirror_mode": {
    "name": "ipython",
    "version": 3
   },
   "file_extension": ".py",
   "mimetype": "text/x-python",
   "name": "python",
   "nbconvert_exporter": "python",
   "pygments_lexer": "ipython3",
   "version": "3.7.10"
  },
  "orig_nbformat": 4
 },
 "nbformat": 4,
 "nbformat_minor": 2
}
