{
 "cells": [
  {
   "cell_type": "code",
   "execution_count": 1,
   "metadata": {},
   "outputs": [
    {
     "name": "stderr",
     "output_type": "stream",
     "text": [
      "Can't find requested entry point: GDALRegisterMe\n",
      "Can't find requested entry point: GDALRegister_nitf\n",
      "Can't find requested entry point: GDALRegisterMe\n",
      "Can't find requested entry point: GDALRegister_nitf\n"
     ]
    }
   ],
   "source": [
    "import numpy as np\n",
    "import xarray as xr\n",
    "import cartopy.crs as ccrs\n",
    "from datetime import datetime as dt\n",
    "from cartopy.feature import OCEAN, LAND, BORDERS\n",
    "import matplotlib.pyplot as plt\n",
    "from matplotlib.animation import FuncAnimation\n",
    "from sklearn.metrics import r2_score"
   ]
  },
  {
   "cell_type": "code",
   "execution_count": 2,
   "metadata": {},
   "outputs": [],
   "source": [
    "def animate(i):\n",
    "    co2_i = co2_ppm.sel(time=times[i])\n",
    "    array_i = co2_i.values.flatten()\n",
    "    plt_co2.set_array(array_i)\n",
    "    ax.set_title(times[i])"
   ]
  },
  {
   "cell_type": "code",
   "execution_count": 3,
   "metadata": {},
   "outputs": [],
   "source": [
    "# https://cds.climate.copernicus.eu/cdsapp#!/dataset/satellite-carbon-dioxide?tab=overview\n",
    "# Data from Copernicus\n",
    "co2_ds = xr.open_dataset(r'..\\data\\SAT_CO2_200301_201912_L3_OBS4MIPS.nc')"
   ]
  },
  {
   "cell_type": "code",
   "execution_count": 4,
   "metadata": {},
   "outputs": [],
   "source": [
    "co2_ppm = co2_ds[\"xco2\"] * 1e6"
   ]
  },
  {
   "cell_type": "code",
   "execution_count": 5,
   "metadata": {},
   "outputs": [],
   "source": [
    "times = co2_ppm.time.to_dict()[\"data\"]"
   ]
  },
  {
   "cell_type": "code",
   "execution_count": 6,
   "metadata": {},
   "outputs": [],
   "source": [
    "cbar_kwargs = {'orientation':'horizontal', \n",
    "               'shrink':0.8, \n",
    "               'aspect':20, \n",
    "               \"pad\": 0.05,\n",
    "               'label':'$CO_{2}$ Concentration (ppm)'}\n"
   ]
  },
  {
   "cell_type": "code",
   "execution_count": 7,
   "metadata": {},
   "outputs": [],
   "source": [
    "fig = plt.figure(figsize=(8, 6))\n",
    "ax = plt.subplot(projection=ccrs.PlateCarree())\n",
    "ax.coastlines(lw=0.3)\n",
    "ax.add_feature(OCEAN, color=\"lavender\")\n",
    "ax.add_feature(LAND, color=\"oldlace\")\n",
    "ax.add_feature(BORDERS, \n",
    "            linestyle='-',\n",
    "            lw=0.6,\n",
    "            edgecolor='gray')\n",
    "ax.gridlines(color='gray',\n",
    "            alpha=0.6,\n",
    "            draw_labels=True)\n",
    "\n",
    "co2_2003 = co2_ppm.sel(time=times[0])\n",
    "co2_2019 = co2_ppm.sel(time=times[-1])\n",
    "vmin = float(co2_2003.min().data)\n",
    "vmax = float(co2_2019.max().data)\n",
    "\n",
    "plt_co2 = co2_ppm.sel(time=times[0]).plot(cmap='gist_heat_r', \n",
    "                                ax=ax,\n",
    "                                vmin=vmin,\n",
    "                                vmax=vmax,\n",
    "                                robust=True,\n",
    "                                cbar_kwargs=cbar_kwargs,\n",
    "                                transform=ccrs.PlateCarree())\n",
    "\n",
    "plt_co2.set_clim(vmin, vmax)\n",
    "plt.tight_layout()\n",
    "plt.close()"
   ]
  },
  {
   "cell_type": "code",
   "execution_count": 8,
   "metadata": {},
   "outputs": [
    {
     "name": "stderr",
     "output_type": "stream",
     "text": [
      "MovieWriter ffmpeg unavailable; using Pillow instead.\n"
     ]
    }
   ],
   "source": [
    "# Create the animation\n",
    "animation = FuncAnimation(fig, animate, frames=len(times))\n",
    "animation.save('06_Red.gif', dpi=150)"
   ]
  },
  {
   "cell_type": "code",
   "execution_count": 9,
   "metadata": {},
   "outputs": [],
   "source": [
    "# Calculate the grids mean\n",
    "co2_mean_glob = []\n",
    "decimal_year = []\n",
    "times = co2_ppm.time.to_dict()[\"data\"]\n",
    "for time in times:\n",
    "    # Calculate the decimal date\n",
    "    tdecimal = time.year + ((30.4375 * (time.month - 1) + time.day - 1) * 24 + time.hour)*3600/31557600.0 \n",
    "    co2_mean_glob.append(float(co2_ppm.sel(time=time).mean().data))\n",
    "    decimal_year.append(tdecimal)\n",
    "decimal_year = np.array(decimal_year)\n",
    "co2_mean_glob = np.array(co2_mean_glob)"
   ]
  },
  {
   "cell_type": "code",
   "execution_count": 10,
   "metadata": {},
   "outputs": [],
   "source": [
    "# remove nan values\n",
    "decimal_year_nonan = decimal_year[np.isfinite(co2_mean_glob)]\n",
    "co2_mean_glob_nonan = co2_mean_glob[np.isfinite(co2_mean_glob)]"
   ]
  },
  {
   "cell_type": "code",
   "execution_count": 11,
   "metadata": {},
   "outputs": [
    {
     "data": {
      "text/plain": [
       "'97.82% of the variations is accounted for by the model'"
      ]
     },
     "execution_count": 11,
     "metadata": {},
     "output_type": "execute_result"
    }
   ],
   "source": [
    "# Fit a quadratic trend line\n",
    "coeffs = np.polyfit(decimal_year_nonan, co2_mean_glob_nonan, deg=2)\n",
    "\n",
    "# Calculate the trend line\n",
    "trend = []\n",
    "for i, c in enumerate(co2_mean_glob):\n",
    "    t_i = decimal_year[i] ** 2 * coeffs[0] + decimal_year[i] * coeffs[1] + coeffs[2]\n",
    "    trend.append(t_i)\n",
    "    \n",
    "# Model\n",
    "model = np.poly1d(coeffs)\n",
    "\n",
    "# Calculate Rscore\n",
    "rscore = r2_score(co2_mean_glob_nonan, model(decimal_year_nonan))\n",
    "f\"{round(rscore*100,2)}% of the variations is accounted for by the model\""
   ]
  },
  {
   "cell_type": "code",
   "execution_count": 12,
   "metadata": {},
   "outputs": [
    {
     "data": {
      "image/png": "[encoded data removed]",
      "text/plain": [
       "<Figure size 432x288 with 1 Axes>"
      ]
     },
     "metadata": {
      "needs_background": "light"
     },
     "output_type": "display_data"
    }
   ],
   "source": [
    "# Plot the result\n",
    "fig, ax = plt.subplots()\n",
    "ax.set_title(\"Global Monthly Mean $CO_{2}$\")\n",
    "ax.plot(times, co2_mean_glob, color=\"tab:red\", lw=1)\n",
    "ax.plot(times, trend, color=\"k\", lw=1)\n",
    "ax.set_xlabel(\"Year\")\n",
    "ax.set_ylabel(\"$CO_{2}$ concentration (ppm)\")\n",
    "ax.legend([\"Monthly Mean\", f\"Quadratic Trend $R^{2}$:{round(rscore,2)}\"])\n",
    "ax.grid()\n",
    "plt.tight_layout()"
   ]
  }
 ],
 "metadata": {
  "interpreter": {
   "hash": "7b11ec4e63c99d8162a346e44061eab97ff71e663e3c205d951a4ad2f12c3cfa"
  },
  "kernelspec": {
   "display_name": "Python 3.7.10 64-bit (system)",
   "language": "python",
   "name": "python3"
  },
  "language_info": {
   "codemirror_mode": {
    "name": "ipython",
    "version": 3
   },
   "file_extension": ".py",
   "mimetype": "text/x-python",
   "name": "python",
   "nbconvert_exporter": "python",
   "pygments_lexer": "ipython3",
   "version": "3.7.10"
  },
  "orig_nbformat": 4
 },
 "nbformat": 4,
 "nbformat_minor": 2
}
